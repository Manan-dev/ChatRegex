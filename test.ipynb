{
 "cells": [
  {
   "cell_type": "code",
   "execution_count": 57,
   "metadata": {},
   "outputs": [
    {
     "name": "stdout",
     "output_type": "stream",
     "text": [
      "The autoreload extension is already loaded. To reload it, use:\n",
      "  %reload_ext autoreload\n"
     ]
    }
   ],
   "source": [
    "%load_ext autoreload\n",
    "%autoreload 2\n"
   ]
  },
  {
   "cell_type": "code",
   "execution_count": 58,
   "metadata": {},
   "outputs": [],
   "source": [
    "# from lib import utils, dataset, store\n",
    "from lib import dataset\n",
    "from lib.chat import ChatBot\n"
   ]
  },
  {
   "cell_type": "code",
   "execution_count": 59,
   "metadata": {},
   "outputs": [],
   "source": [
    "input_path = \"./dataset/the_sign_of_the_four.txt\"\n",
    "\n",
    "data = dataset.read_data(input_path)\n",
    "data_proc = dataset.preprocess_data(data)\n",
    "\n",
    "chatbot = ChatBot(data_proc)\n"
   ]
  },
  {
   "cell_type": "code",
   "execution_count": 60,
   "metadata": {},
   "outputs": [],
   "source": [
    "questions_base = [\n",
    "    \"When does the investigator (or a pair) occur for the first time\",\n",
    "    \"When is the crime first mentioned\",\n",
    "    \"When is the perpetrator first mentioned\",\n",
    "    \"What are the three words that occur around the perpetrator on each mention\",\n",
    "    \"When and how the detective/detectives and the perpetrators co-occur\",\n",
    "    \"When are other suspects first introduced\"\n",
    "]\n",
    "\n",
    "\n"
   ]
  },
  {
   "cell_type": "code",
   "execution_count": 61,
   "metadata": {},
   "outputs": [
    {
     "name": "stdout",
     "output_type": "stream",
     "text": [
      "Q: When is the investigator first mentioned\n",
      "msg_usr_proc: When is the investigator first mentioned\n",
      "get_first_mention:  investigator\n",
      "A: Chapter: Chapter I The Science of Deduction\n",
      "Sentence #: 1\n",
      "Sentence Text: Sherlock Holmes took his bottle from the corner of the mantel-piece and his hypodermic syringe from its neat morocco case.\n",
      "--------------------------------------------------------------------------------\n",
      "Q: When is the perpetrator first mentioned\n",
      "msg_usr_proc: When is the perpetrator first mentioned\n",
      "get_first_mention:  perpetrator\n",
      "A: Chapter: Chapter III In Quest of a Solution\n",
      "Sentence #: 53\n",
      "Sentence Text: Beside it is written, in very rough and coarse characters, 'The sign of the four,-Jonathan Small, Mahomet Singh, Abdullah Khan, Dost Akbar.'\n",
      "--------------------------------------------------------------------------------\n",
      "Q: When is the crime first mentioned\n",
      "msg_usr_proc: When is the crime first mentioned\n",
      "get_first_mention:  crime\n",
      "A: Chapter: Chapter I The Science of Deduction\n",
      "Sentence #: 85\n",
      "Sentence Text: If you can say definitely, for example, that some murder has been done by a man who was smoking an Indian lunkah, it obviously narrows your field of search.\n",
      "--------------------------------------------------------------------------------\n"
     ]
    }
   ],
   "source": [
    "questions1 = [\n",
    "    \"When is the investigator first mentioned\",\n",
    "    \"When is the perpetrator first mentioned\",\n",
    "    \"When is the crime first mentioned\",    \n",
    "]\n",
    "\n",
    "\n",
    "for q in questions1:\n",
    "    print(\"Q:\", q)\n",
    "    print(\"A:\", chatbot.answer(q))\n",
    "    print(\"-\" * 80)\n"
   ]
  },
  {
   "cell_type": "code",
   "execution_count": 62,
   "metadata": {},
   "outputs": [],
   "source": [
    "\n",
    "# all_terms = [\n",
    "#     # concatenate all values in store.search_terms_map\n",
    "#     term for terms in store.search_terms_map.values() for term in terms\n",
    "# ]\n",
    "\n",
    "# all_terms\n"
   ]
  }
 ],
 "metadata": {
  "kernelspec": {
   "display_name": "Python 3",
   "language": "python",
   "name": "python3"
  },
  "language_info": {
   "codemirror_mode": {
    "name": "ipython",
    "version": 3
   },
   "file_extension": ".py",
   "mimetype": "text/x-python",
   "name": "python",
   "nbconvert_exporter": "python",
   "pygments_lexer": "ipython3",
   "version": "3.10.12"
  }
 },
 "nbformat": 4,
 "nbformat_minor": 2
}
